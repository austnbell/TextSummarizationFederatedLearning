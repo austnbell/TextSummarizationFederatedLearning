{
 "cells": [
  {
   "cell_type": "markdown",
   "metadata": {},
   "source": [
    "## Applied NLP - Federated Learning\n",
    "### Model Comparison\n",
    "\n",
    "Compares the results of the baseline model and the model created using federated learning"
   ]
  },
  {
   "cell_type": "code",
   "execution_count": 2,
   "metadata": {},
   "outputs": [],
   "source": [
    "import numpy as np\n",
    "import keras\n",
    "import tensorflow as tf\n",
    "import math\n",
    "from keras.activations import sigmoid, tanh\n",
    "\n",
    "import sys, os\n",
    "os.chdir('../..') \n",
    "\n",
    "from Programs.SumaRuNNer.Vocab import Vocab\n",
    "from Programs.Evaluation.Evaluator import Evaluator\n"
   ]
  },
  {
   "cell_type": "code",
   "execution_count": 3,
   "metadata": {},
   "outputs": [],
   "source": [
    "# import Test Data\n",
    "buyer1_docs = np.load(\"./Buyer1/Enc_Train_Buyer1_docs.npy\")\n",
    "buyer1_labels = np.load(\"./Buyer1/Enc_Train_Buyer1_labels.npy\")\n",
    "buyer2_docs = np.load(\"./Buyer2/Enc_Train_Buyer2_docs.npy\")\n",
    "buyer2_labels = np.load(\"./Buyer2/Enc_Train_Buyer2_labels.npy\")"
   ]
  },
  {
   "cell_type": "code",
   "execution_count": 4,
   "metadata": {},
   "outputs": [
    {
     "name": "stderr",
     "output_type": "stream",
     "text": [
      "WARNING: Logging before flag parsing goes to stderr.\n",
      "W0728 11:17:52.352715 4823262656 deprecation_wrapper.py:119] From /anaconda3/lib/python3.7/site-packages/keras/backend/tensorflow_backend.py:517: The name tf.placeholder is deprecated. Please use tf.compat.v1.placeholder instead.\n",
      "\n",
      "W0728 11:17:52.365585 4823262656 deprecation_wrapper.py:119] From /anaconda3/lib/python3.7/site-packages/keras/backend/tensorflow_backend.py:74: The name tf.get_default_graph is deprecated. Please use tf.compat.v1.get_default_graph instead.\n",
      "\n",
      "W0728 11:18:09.919477 4823262656 deprecation_wrapper.py:119] From /anaconda3/lib/python3.7/site-packages/keras/backend/tensorflow_backend.py:4138: The name tf.random_uniform is deprecated. Please use tf.random.uniform instead.\n",
      "\n",
      "W0728 11:18:10.241076 4823262656 deprecation_wrapper.py:119] From /anaconda3/lib/python3.7/site-packages/keras/backend/tensorflow_backend.py:3980: The name tf.nn.avg_pool is deprecated. Please use tf.nn.avg_pool2d instead.\n",
      "\n",
      "W0728 11:18:15.388812 4823262656 deprecation_wrapper.py:119] From /anaconda3/lib/python3.7/site-packages/keras/backend/tensorflow_backend.py:174: The name tf.get_default_session is deprecated. Please use tf.compat.v1.get_default_session instead.\n",
      "\n",
      "W0728 11:18:15.389631 4823262656 deprecation_wrapper.py:119] From /anaconda3/lib/python3.7/site-packages/keras/backend/tensorflow_backend.py:181: The name tf.ConfigProto is deprecated. Please use tf.compat.v1.ConfigProto instead.\n",
      "\n",
      "W0728 11:18:20.240240 4823262656 deprecation_wrapper.py:119] From /anaconda3/lib/python3.7/site-packages/keras/optimizers.py:790: The name tf.train.Optimizer is deprecated. Please use tf.compat.v1.train.Optimizer instead.\n",
      "\n",
      "W0728 11:18:20.246898 4823262656 deprecation.py:323] From /anaconda3/lib/python3.7/site-packages/tensorflow/python/ops/nn_impl.py:180: add_dispatch_support.<locals>.wrapper (from tensorflow.python.ops.array_ops) is deprecated and will be removed in a future version.\n",
      "Instructions for updating:\n",
      "Use tf.where in 2.0, which has the same broadcast rule as np.where\n"
     ]
    }
   ],
   "source": [
    "# Init evaluator\n",
    "vocab = Vocab(word_index_path = \"./Models/Word_Index.txt\",\n",
    "              embed_path= \"./Models/Embeddings\")\n",
    "evaluator = Evaluator(vocab)\n",
    "\n",
    "# load models\n",
    "fed_model = keras.models.load_model('./Models/SummaRuNNer_Federated.h5', \n",
    "                                     custom_objects={\"tf\": tf,\n",
    "                                                     \"math\":math,\n",
    "                                                     \"sigmoid\":sigmoid,\n",
    "                                                     \"tanh\":tanh})\n",
    "\n",
    "base_model = keras.models.load_model('./Models/SummaRuNNer_Baseline.h5', \n",
    "                                     custom_objects={\"tf\": tf,\n",
    "                                                     \"math\":math,\n",
    "                                                     \"sigmoid\":sigmoid,\n",
    "                                                     \"tanh\":tanh})"
   ]
  },
  {
   "cell_type": "markdown",
   "metadata": {},
   "source": [
    "Compare Buyer1 results"
   ]
  },
  {
   "cell_type": "code",
   "execution_count": 5,
   "metadata": {},
   "outputs": [
    {
     "name": "stdout",
     "output_type": "stream",
     "text": [
      "Base Rouge Scores on Buyer 1 Data\n",
      "{'rouge-1': {'f': 0.6613901402940836, 'p': 0.8024325498622318, 'r': 0.5901871047855092}, 'rouge-2': {'f': 0.5582089536230679, 'p': 0.7253517552151117, 'r': 0.4858181092628413}, 'rouge-l': {'f': 0.6082647718566938, 'p': 0.7925295551103128, 'r': 0.5824704955345045}}\n",
      "\n",
      "Federated Rouge Scores on Buyer 1 Data\n",
      "{'rouge-1': {'f': 0.5808925103731999, 'p': 0.5415112558299237, 'r': 0.6364713528413622}, 'rouge-2': {'f': 0.4294818077884684, 'p': 0.3973831653465476, 'r': 0.476921206300977}, 'rouge-l': {'f': 0.5489636775869806, 'p': 0.5244953137758491, 'r': 0.6172322709920861}}\n"
     ]
    }
   ],
   "source": [
    "# Buyer 1 data first\n",
    "gold_buyer1 = evaluator.gold_summary(buyer1_docs, buyer1_labels)\n",
    "\n",
    "base_pred_buyer1 = evaluator.predicted_summary(buyer1_docs, base_model)\n",
    "fed_pred_buyer1 = evaluator.predicted_summary(buyer1_docs, fed_model)\n",
    "\n",
    "# compute rouge\n",
    "print(\"Baseline Rouge Scores on Buyer 1 Data\")\n",
    "print(evaluator.compute_rouge(gold_buyer1, base_pred_buyer1))\n",
    "\n",
    "print(\"\\nFederated Learning Rouge Scores on Buyer 1 Data\")\n",
    "print(evaluator.compute_rouge(gold_buyer1, fed_pred_buyer1))"
   ]
  },
  {
   "cell_type": "code",
   "execution_count": 8,
   "metadata": {},
   "outputs": [
    {
     "name": "stdout",
     "output_type": "stream",
     "text": [
      "Gold Summary: 2732\n",
      "maradona has agreed that messi is now his heir.former tottenham legend and argentine world cup winner <UNK> <UNK> believes messi is now better than maradona and even pele.i would now say that messi will go down in history as the no.1 player of all time , the best that there ever was , ' said <UNK>.right path : messi has inspired argentina to two victories in brazil top of the world : maradona led argentina to world cup glory in mexico in 1986 video all.' but for many it will only be if messi can lead argentina to victory at a world cup that he will be regarded in such esteem as maradona.after <UNK> at the last world cup , messi is on the right path having scored two superb individual goals to seal successive victories and could well further stamp his.in that respect , messi has started better in terms of goals than maradona did in 1986 , who only scored one goal at the group stage in a draw.he then struck his two ' beast and beauty ' goals against england in the quarter final and then two more in the 2 - 0 semi final win over.the real madrid striker , who could be up for grabs this summer , currently trails brazil 's neymar , who is now on four , by one goal.free - scoring : france , and three - goal striker karim benzema , have impressed in brazil if he does strike he will become only the second france to.he was just fontaine who in the 1958 finals hit a staggering 13 goals which remains the record.nigeria need a point against argentina to guarantee a place in the knockout stage.experience : iran 's javad <UNK> will win his 143rd cap against bosnia on wednesday the most capped player of all time is ahmed hassan of egypt with 184.a perception that in the main refs at the world cup have , where possible , let games flow and have not been rushed into issuing cards is backed up.i say : there are many reasons why england flopped at this world cup.grounded : andy carroll was not included in england 's squad for the finals world cup moment : france have so far surprised given the downbeat attitude of manager didier.video team profile : france world cup bet : <UNK> <UNK> and messi are both 5 - 1 to score on wednesday night.nigeria , argentina , ecuador and france all to score is 12 - 1\n",
      "\n",
      " Baseline Predicted summary: 2732\n",
      "maradona has agreed that messi is now his heir.former tottenham legend and argentine world cup winner <UNK> <UNK> believes messi is now better than maradona and even pele.' for some time i have thought that maradona could never be surpassed , and nor could pele , but no longer.i would now say that messi will go down in history as the no.1 player of all time , the best that there ever was , ' said <UNK>.right path : messi has inspired argentina to two victories in brazil top of the world : maradona led argentina to world cup glory in mexico in 1986 video all.' but for many it will only be if messi can lead argentina to victory at a world cup that he will be regarded in such esteem as maradona.after <UNK> at the last world cup , messi is on the right path having scored two superb individual goals to seal successive victories and could well further stamp his.in that respect , messi has started better in terms of goals than maradona did in 1986 , who only scored one goal at the group stage in a draw.he then struck his two ' beast and beauty ' goals against england in the quarter final and then two more in the 2 - 0 semi final win over\n",
      "\n",
      " Federated Learrning Predicted summary: 2732\n",
      "' for some time i have thought that maradona could never be surpassed , and nor could pele , but no longer.' but for many it will only be if messi can lead argentina to victory at a world cup that he will be regarded in such esteem as maradona.in that respect , messi has started better in terms of goals than maradona did in 1986 , who only scored one goal at the group stage in a draw.karim benzema will he hoping to fill his boots in the race for the golden boot.free - scoring : france , and three - goal striker karim benzema , have impressed in brazil if he does strike he will become only the second france to.but he will have a long way to go to catch the last france striker to pass that mark.he was just fontaine who in the 1958 finals hit a staggering 13 goals which remains the record.nigeria need a point against argentina to guarantee a place in the knockout stage.if defensive resolve is required then nigeria have shown it thus far.their goalkeeper vincent <UNK> of lille in france is so far the top graded keeper in the tournament according to fifa stats which give a 100 per cent record with.iran need to beat bosnia and hope nigeria slip up to progress.the iranians , managed by former manchester united assistant coach carlos <UNK> , certainly have the mentality and tactical nous to take it to the wire.their midfield general javad <UNK> will be key , not least given his vast experience.the notion that <UNK> referees are more lenient than their continental counterparts and turn a blind eye to certain types of robust challenges does not appear to stand up judging.a perception that in the main refs at the world cup have , where possible , let games flow and have not been rushed into issuing cards is backed up.last season in the <UNK> the ratio of yellow cards was one per 6.8 fouls.watch out for left footed striker xherdan shaqiri who can fire switzerland into the next phase.the bayern munich player has long been admired by several <UNK> clubs and could be up for grabs following the arrival this summer of poland âs robert <UNK>.i say : there are many reasons why england flopped at this world cup.but one of the most obvious but least debated is the simple fact england did nât score enough goals.there can be endless debates about tactics , pass <UNK> , defensive frailties , sport psychology and so on but if the you do nât stick the ball in the.it âs enhances the argument that roy hodgson should have taken at least one more striker <UNK> <UNK> jermain defoe or andy carroll <UNK> <UNK> especially as alex <UNK> -.they might not be quite the elegant side of 1998 but they have been full of attacking menace and goals.video team profile : france world cup bet : <UNK> <UNK> and messi are both 5 - 1 to score on wednesday night.a draw between bosnia and iran is <UNK>\n",
      "\n",
      "\n",
      "\n",
      "\n",
      "Gold Summary: 2607\n",
      "here is all the information you need for liverpool 's home clash with hull city ... hull city have never won at liverpool and lost 2 - 0 at anfield.midfielder lallana is pushing for a starting place after impressing as a substitute in the midweek defeat to real madrid.mohamed diame ( right ) has been on top form since moving to hull city from west ham united hull city injuries have hit hull city hard in the past.key match stats ( supplied by opta ) liverpool have scored 10 goals in three premier league home games against hull city.mario balotelli has put more clear cut chances off target than any other premier league player this season ( 3 ).liverpool have conceded exactly one goal in each of their last five premier league games at anfield.hull city âs last two away games have ended 2 - 2.only two teams in premier league history have recorded three successive 2 - <UNK> away from home ( man utd in 1994 and newcastle in 2003 )\n",
      "\n",
      " Baseline Predicted summary: 2607\n",
      "ahead of this weekend 's premier league action , sportsmail will be providing you with all you need to know about every fixture , with team news , provisional squads.here is all the information you need for liverpool 's home clash with hull city ... hull city have never won at liverpool and lost 2 - 0 at anfield.the 24 - year - old has scored just once in 10 appearances but with daniel sturridge still sidelined by a calf problem the italy international will probably start ahead.midfielder lallana is pushing for a starting place after impressing as a substitute in the midweek defeat to real madrid.provisional squad : mignolet , johnson , lovren , skrtel , moreno , steven gerrard , henderson , allen , lallana , mario balotelli , sterling , jones , manquillo.mohamed diame ( right ) has been on top form since moving to hull city from west ham united hull city injuries have hit hull city hard in the past.third - choice goalkeeper jakupovic is in line for only his second premier league start with allan mcgregor ( shoulder ) and steve harper ( bicep ) both out ,\n",
      "\n",
      " Federated Learrning Predicted summary: 2607\n",
      "the 24 - year - old has scored just once in 10 appearances but with daniel sturridge still sidelined by a calf problem the italy international will probably start ahead.mohamed diame ( right ) has been on top form since moving to hull city from west ham united hull city injuries have hit hull city hard in the past.left - back andy robertson has a knock that is set to keep him out too , but huddlestone should be fine to play through discomfort for the third game.key match stats ( supplied by opta ) liverpool have scored 10 goals in three premier league home games against hull city.steven gerrard has three goals in two starts against hull city at anfield.hull city ( along with chelsea and everton ) are one of only three teams to score in every premier league game this season.mario balotelli has put more clear cut chances off target than any other premier league player this season ( 3 ).after winning 11 premier league games in a row between february and april , liverpool have won just five of the subsequent 11 matches.the reds have kept just one clean sheet in their last 14 premier league matches.liverpool have conceded exactly one goal in each of their last five premier league games at anfield.hull city âs last two away games have ended 2 - 2.only two teams in premier league history have recorded three successive 2 - <UNK> away from home ( man utd in 1994 and newcastle in 2003 ).liverpool have both taken ( 129 ) and scored ( 98 â level with chelsea ) the most penalties in premier league history .\n",
      "\n",
      "\n",
      "\n",
      "\n"
     ]
    }
   ],
   "source": [
    "# review gold summaries\n",
    "np.random.seed(0)\n",
    "doc_ids = np.random.choice(len(buyer1_docs), 2)\n",
    "\n",
    "for doc_id in doc_ids:\n",
    "    print(\"Gold Summary: \" + str(doc_id))\n",
    "    print(gold_buyer1[doc_id])\n",
    "    \n",
    "    print(\"\\n Baseline Predicted summary: \" + str(doc_id))\n",
    "    print(base_pred_buyer1[doc_id])\n",
    "    \n",
    "    print(\"\\n Federated Learrning Predicted summary: \" + str(doc_id))\n",
    "    print(fed_pred_buyer1[doc_id])\n",
    "\n",
    "    print(\"\\n\\n\\n\")"
   ]
  },
  {
   "cell_type": "markdown",
   "metadata": {},
   "source": [
    "Compare Buyer2 Results"
   ]
  },
  {
   "cell_type": "code",
   "execution_count": null,
   "metadata": {},
   "outputs": [
    {
     "name": "stdout",
     "output_type": "stream",
     "text": [
      "Baseline Rouge Scores on Buyer 2 Data\n",
      "{'rouge-1': {'f': 0.6399791426776964, 'p': 0.8391030666441581, 'r': 0.5354614923076423}, 'rouge-2': {'f': 0.531173090511909, 'p': 0.7662032879267172, 'r': 0.42664437081600515}, 'rouge-l': {'f': 0.5732403311640825, 'p': 0.82958304887394, 'r': 0.5291367123818642}}\n",
      "\n",
      "Federated Learning Rouge Scores on Buyer 2 Data\n"
     ]
    }
   ],
   "source": [
    "# Buyer 2 data \n",
    "gold_buyer2 = evaluator.gold_summary(buyer2_docs, buyer2_labels)\n",
    "\n",
    "base_pred_buyer2 = evaluator.predicted_summary(buyer2_docs, base_model)\n",
    "fed_pred_buyer2 = evaluator.predicted_summary(buyer2_docs, fed_model)\n",
    "\n",
    "# compute rouge\n",
    "print(\"Baseline Rouge Scores on Buyer 2 Data\")\n",
    "print(evaluator.compute_rouge(gold_buyer2, base_pred_buyer2))\n",
    "\n",
    "print(\"\\nFederated Learning Rouge Scores on Buyer 2 Data\")\n",
    "print(evaluator.compute_rouge(gold_buyer2, fed_pred_buyer2))"
   ]
  },
  {
   "cell_type": "code",
   "execution_count": null,
   "metadata": {},
   "outputs": [],
   "source": [
    "# review gold summaries\n",
    "doc_ids = np.random.choice(len(buyer2_docs), 2)\n",
    "\n",
    "for doc_id in doc_ids:\n",
    "    print(\"Gold Summary: \" + str(doc_id))\n",
    "    print(gold_buyer2[doc_id])\n",
    "    \n",
    "    print(\"\\n Baseline Predicted summary: \" + str(doc_id))\n",
    "    print(base_pred_buyer2[doc_id])\n",
    "    \n",
    "    print(\"\\n Federated Learrning Predicted summary: \" + str(doc_id))\n",
    "    print(fed_pred_buyer2[doc_id])\n",
    "\n",
    "    print(\"\\n\\n\\n\")"
   ]
  },
  {
   "cell_type": "code",
   "execution_count": null,
   "metadata": {},
   "outputs": [],
   "source": []
  }
 ],
 "metadata": {
  "kernelspec": {
   "display_name": "Python 3",
   "language": "python",
   "name": "python3"
  },
  "language_info": {
   "codemirror_mode": {
    "name": "ipython",
    "version": 3
   },
   "file_extension": ".py",
   "mimetype": "text/x-python",
   "name": "python",
   "nbconvert_exporter": "python",
   "pygments_lexer": "ipython3",
   "version": "3.7.3"
  }
 },
 "nbformat": 4,
 "nbformat_minor": 2
}
