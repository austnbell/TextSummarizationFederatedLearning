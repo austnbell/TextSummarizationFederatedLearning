{
 "cells": [
  {
   "cell_type": "markdown",
   "metadata": {},
   "source": [
    "## Generate Topic Model\n",
    "Create a topic model using the 20 news group dataset\n",
    "Model will be used to split Dailymail dataset into separate topics\n",
    "\n",
    "Baseline of Naive Bayes / SVM model found here: https://www.kaggle.com/jhoward/nb-svm-strong-linear-baseline\n",
    "Linear SVM is mathematically equivalent to Logistic Regression\n",
    "\n",
    "I tested first on multinomial NB, but found that without any fine-tuning or feature engineering, NB/SVM performed much better on the whole data"
   ]
  },
  {
   "cell_type": "code",
   "execution_count": 7,
   "metadata": {},
   "outputs": [],
   "source": [
    "import re\n",
    "import pandas as pd\n",
    "import numpy as np\n",
    "\n",
    "from sklearn.datasets import fetch_20newsgroups\n",
    "from sklearn.feature_extraction.text import  CountVectorizer, TfidfVectorizer\n",
    "\n",
    "import sys, os\n",
    "sys.path.append(os.getcwd())\n",
    "from NBSVM_TopicModel import model_20ng\n"
   ]
  },
  {
   "cell_type": "code",
   "execution_count": 2,
   "metadata": {},
   "outputs": [],
   "source": [
    "# use sklearn to easily acquire data - remove extraneous information\n",
    "def extract_20ng(print_sample = False):\n",
    "    train = fetch_20newsgroups(subset='train', remove=('headers', 'footers', 'quotes'))\n",
    "    test = fetch_20newsgroups(subset='test', remove=('headers', 'footers', 'quotes'))\n",
    "    \n",
    "    if print_sample:\n",
    "        print(\"Print 20 Newsgroup sample \\n\")\n",
    "        print(train.data[0], \"\\n\", train.target_names[train.target[0]])\n",
    "    \n",
    "    return train, test"
   ]
  },
  {
   "cell_type": "markdown",
   "metadata": {},
   "source": [
    "Generate labels dataframe for binary classification"
   ]
  },
  {
   "cell_type": "code",
   "execution_count": 3,
   "metadata": {},
   "outputs": [],
   "source": [
    "def gen_y(data):\n",
    "    df = []\n",
    "    # for each target, create a row with file id and dummies for each of the labels\n",
    "    for i in range(len(data.data)):\n",
    "        row = [re.sub(\"^.*/\", \"\", data.filenames[i])]\n",
    "        labels = [0]*len(data.target_names) #20\n",
    "        labels[data.target[i]] = 1\n",
    "        row += labels\n",
    "        df.append(row)\n",
    "      \n",
    "    cols = ['filename'] \n",
    "    cols += data.target_names\n",
    "    \n",
    "    return pd.DataFrame(df, columns = cols)\n",
    "\n",
    "#df = gen_y(train)\n",
    "#df.head()"
   ]
  },
  {
   "cell_type": "markdown",
   "metadata": {},
   "source": [
    "Run our model pipeline "
   ]
  },
  {
   "cell_type": "code",
   "execution_count": 8,
   "metadata": {},
   "outputs": [
    {
     "name": "stdout",
     "output_type": "stream",
     "text": [
      "Print 20 Newsgroup sample \n",
      "\n",
      "I was wondering if anyone out there could enlighten me on this car I saw\n",
      "the other day. It was a 2-door sports car, looked to be from the late 60s/\n",
      "early 70s. It was called a Bricklin. The doors were really small. In addition,\n",
      "the front bumper was separate from the rest of the body. This is \n",
      "all I know. If anyone can tellme a model name, engine specs, years\n",
      "of production, where this car is made, history, or whatever info you\n",
      "have on this funky looking car, please e-mail. \n",
      " rec.autos\n",
      "\n",
      "...Generating Bag of Word Matrices...\n",
      "\n",
      "...Fitting models...\n",
      "alt.atheism\n",
      "comp.graphics\n",
      "comp.os.ms-windows.misc\n",
      "comp.sys.ibm.pc.hardware\n",
      "comp.sys.mac.hardware\n",
      "comp.windows.x\n",
      "misc.forsale\n",
      "rec.autos\n",
      "rec.motorcycles\n",
      "rec.sport.baseball\n",
      "rec.sport.hockey\n",
      "sci.crypt\n",
      "sci.electronics\n",
      "sci.med\n",
      "sci.space\n",
      "soc.religion.christian\n",
      "talk.politics.guns\n",
      "talk.politics.mideast\n",
      "talk.politics.misc\n",
      "talk.religion.misc\n",
      "\n",
      "...Evaluating model...\n",
      "Model Accuracy is....  71.18\n",
      "              precision    recall  f1-score   support\n",
      "\n",
      "           0       0.56      0.50      0.53       319\n",
      "           1       0.65      0.72      0.69       389\n",
      "           2       0.65      0.64      0.64       394\n",
      "           3       0.67      0.70      0.68       392\n",
      "           4       0.74      0.70      0.72       385\n",
      "           5       0.87      0.74      0.80       395\n",
      "           6       0.80      0.80      0.80       390\n",
      "           7       0.50      0.76      0.60       396\n",
      "           8       0.80      0.76      0.78       398\n",
      "           9       0.85      0.83      0.84       397\n",
      "          10       0.92      0.88      0.90       399\n",
      "          11       0.86      0.72      0.79       396\n",
      "          12       0.59      0.61      0.60       393\n",
      "          13       0.82      0.79      0.80       396\n",
      "          14       0.75      0.78      0.77       394\n",
      "          15       0.68      0.83      0.74       398\n",
      "          16       0.61      0.71      0.65       364\n",
      "          17       0.88      0.77      0.82       376\n",
      "          18       0.56      0.48      0.52       310\n",
      "          19       0.49      0.27      0.35       251\n",
      "\n",
      "   micro avg       0.71      0.71      0.71      7532\n",
      "   macro avg       0.71      0.70      0.70      7532\n",
      "weighted avg       0.72      0.71      0.71      7532\n",
      "\n"
     ]
    }
   ],
   "source": [
    "clf20 = model_20ng()\n",
    "\n",
    "# run model\n",
    "def main(clf):\n",
    "    train, test = extract_20ng(True)\n",
    "    clf20.add_topics(train.target_names)\n",
    "    \n",
    "    # create TF-IDF vectorizer\n",
    "    print(\"\\n...Generating TF-IDF Matrices...\")\n",
    "    vec = TfidfVectorizer(ngram_range=(1,2), tokenizer=clf20.spacy_tokenizer,\n",
    "               min_df=3, max_df=0.9, strip_accents='unicode', use_idf=1,\n",
    "               smooth_idf=1, sublinear_tf=1 )\n",
    "    train_vec = vec.fit_transform(train.data)\n",
    "    test_vec = vec.transform(test.data)\n",
    "    clf20.vec = vec # save vectorizer\n",
    "    \n",
    "    # generate label dataframes\n",
    "    y_train = gen_y(train)\n",
    "    y_test = gen_y(test)\n",
    "    \n",
    "    preds = np.zeros((len(test.data), len(y_test)-1))\n",
    "    \n",
    "    # run a binary model for each label\n",
    "    print(\"\\n...Fitting models...\")\n",
    "    for i, col in enumerate(y_train.iloc[:,1:]):\n",
    "        print(col)\n",
    "        model, r = clf20.get_mdl(train_vec, y_train[col])\n",
    "        preds[:,i] = model.predict_proba(test_vec.multiply(r))[:,1]\n",
    "        \n",
    "        # add results\n",
    "        clf20.add_result(r, model)\n",
    "        \n",
    "    # select max label from each of the binary models\n",
    "    preds[:,-1], _ = clf20.select_max_labels(preds)\n",
    "    \n",
    "    print(\"\\n...Evaluating model...\")\n",
    "    clf20.evaluate(test.target, preds[:,-1])\n",
    "        \n",
    "    return clf20, preds\n",
    "    \n",
    "clf20, preds = main(clf20)"
   ]
  },
  {
   "cell_type": "markdown",
   "metadata": {},
   "source": [
    "Save model object"
   ]
  },
  {
   "cell_type": "code",
   "execution_count": 11,
   "metadata": {},
   "outputs": [],
   "source": [
    "import pickle\n",
    "import os\n",
    "os.chdir(\"../..\")\n",
    "with open(\"./Models/20ng_topicModel\", \"wb\") as f:\n",
    "    pickle.dump(clf20, f)"
   ]
  }
 ],
 "metadata": {
  "kernelspec": {
   "display_name": "Python 3",
   "language": "python",
   "name": "python3"
  },
  "language_info": {
   "codemirror_mode": {
    "name": "ipython",
    "version": 3
   },
   "file_extension": ".py",
   "mimetype": "text/x-python",
   "name": "python",
   "nbconvert_exporter": "python",
   "pygments_lexer": "ipython3",
   "version": "3.7.3"
  }
 },
 "nbformat": 4,
 "nbformat_minor": 2
}
