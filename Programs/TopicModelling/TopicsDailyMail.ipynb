{
 "cells": [
  {
   "cell_type": "markdown",
   "metadata": {},
   "source": [
    "## Part 2 - Federated Learning NLP \n",
    "### Split Daily Mail data into topics\n"
   ]
  },
  {
   "cell_type": "code",
   "execution_count": 1,
   "metadata": {},
   "outputs": [
    {
     "data": {
      "text/plain": [
       "['/Users/austin.bellibm.com/Documents/FederatedLearning/Part 3 - Applied NLP']"
      ]
     },
     "execution_count": 1,
     "metadata": {},
     "output_type": "execute_result"
    }
   ],
   "source": [
    "import numpy as np\n",
    "import json\n",
    "import pickle\n",
    "\n",
    "import os\n",
    "#os.chdir(\"../..\")\n",
    "!!pwd"
   ]
  },
  {
   "cell_type": "code",
   "execution_count": 13,
   "metadata": {},
   "outputs": [],
   "source": [
    "# read in daily mail data - using prepocessed versions\n",
    "with open('./RawData/data/train.json') as f:\n",
    "    train = [json.loads(line) for line in f]\n",
    "    train = np.array(train)\n",
    "    train_docs, train_labels = zip(*[(line['doc'], line['labels']) for line in train])\n",
    "    \n",
    "with open('./RawData/data/test.json') as f:\n",
    "    test = [json.loads(line) for line in f]\n",
    "    test = np.array(test)\n",
    "    test_docs, test_labels = zip(*[(line['doc'], line['labels']) for line in test])\n",
    "    \n",
    "# read in nb-svm model\n",
    "with open('./Models/20ng_topicModel', 'rb') as model:\n",
    "    clf20 = pickle.load(model)"
   ]
  },
  {
   "cell_type": "code",
   "execution_count": 14,
   "metadata": {},
   "outputs": [
    {
     "data": {
      "text/plain": [
       "(193983, 10350)"
      ]
     },
     "execution_count": 14,
     "metadata": {},
     "output_type": "execute_result"
    }
   ],
   "source": [
    "len(train), len(test)"
   ]
  },
  {
   "cell_type": "code",
   "execution_count": 15,
   "metadata": {},
   "outputs": [],
   "source": [
    "# The downloaded dataset contains wrongly encoded characters which appear as \"â\\x80\\x98\" - I will remove these\n",
    "train_docs = list(map(lambda train: train.encode('ascii', errors='ignore'), train_docs))\n",
    "test_docs = list(map(lambda test: test.encode('ascii', errors = 'ignore'), test_docs))"
   ]
  },
  {
   "cell_type": "markdown",
   "metadata": {},
   "source": [
    "Run Topic model on Daily Mail Data (need to do for both train and test - turn into a function to save memory)"
   ]
  },
  {
   "cell_type": "code",
   "execution_count": 16,
   "metadata": {},
   "outputs": [
    {
     "name": "stdout",
     "output_type": "stream",
     "text": [
      "\n",
      "...Generating TF-IDF Matrices...\n",
      "\n",
      "...Fitting models...\n",
      "alt.atheism\n",
      "comp.graphics\n",
      "comp.os.ms-windows.misc\n",
      "comp.sys.ibm.pc.hardware\n",
      "comp.sys.mac.hardware\n",
      "comp.windows.x\n",
      "misc.forsale\n",
      "rec.autos\n",
      "rec.motorcycles\n",
      "rec.sport.baseball\n",
      "rec.sport.hockey\n",
      "sci.crypt\n",
      "sci.electronics\n",
      "sci.med\n",
      "sci.space\n",
      "soc.religion.christian\n",
      "talk.politics.guns\n",
      "talk.politics.mideast\n",
      "talk.politics.misc\n",
      "talk.religion.misc\n",
      "\n",
      "...Generating TF-IDF Matrices...\n",
      "\n",
      "...Fitting models...\n",
      "alt.atheism\n",
      "comp.graphics\n",
      "comp.os.ms-windows.misc\n",
      "comp.sys.ibm.pc.hardware\n",
      "comp.sys.mac.hardware\n",
      "comp.windows.x\n",
      "misc.forsale\n",
      "rec.autos\n",
      "rec.motorcycles\n",
      "rec.sport.baseball\n",
      "rec.sport.hockey\n",
      "sci.crypt\n",
      "sci.electronics\n",
      "sci.med\n",
      "sci.space\n",
      "soc.religion.christian\n",
      "talk.politics.guns\n",
      "talk.politics.mideast\n",
      "talk.politics.misc\n",
      "talk.religion.misc\n"
     ]
    }
   ],
   "source": [
    "def get_labels(clf20, docs, score):\n",
    "    # get predictions\n",
    "    preds = clf20.run_nbsvm(docs) # all topics\n",
    "\n",
    "    # identify max\n",
    "    max_labels, threshold_vec = clf20.select_max_labels(preds, ret_score_threshold = True, score_threshold = score)\n",
    "\n",
    "    # convert labels that do not meet threshold to other category\n",
    "    max_labels = np.where(threshold_vec == 0, len(clf20.topics)-1, max_labels)\n",
    "    \n",
    "    return max_labels\n",
    "\n",
    "train_max_labels = get_labels(clf20, train_docs, .5)\n",
    "test_max_labels = get_labels(clf20, test_docs, .5)"
   ]
  },
  {
   "cell_type": "code",
   "execution_count": 17,
   "metadata": {},
   "outputs": [
    {
     "name": "stdout",
     "output_type": "stream",
     "text": [
      "{7: 96, 8: 17, 9: 63, 10: 312, 11: 6, 12: 2, 13: 372, 14: 97, 15: 32, 16: 71, 17: 29, 18: 35, 20: 9218}\n",
      "17\n",
      "sci.med\n",
      "b\"breast cancer is the second most common cause of death from cancer among american women the american spends $ 4billion a year on unnecessary medical costs due to mammograms generating false alarms and on treatment for breast tumors unlikely to cause problems , a new report has revealed\\nthe study , published in the health affairs journal on monday , has estimated the figure for women aged 40 to 59\\nit is made up of $ 2.8bn resulting from false - positive mammograms and another $ 1.2bn attributed to breast cancer overdiagnosis - treatment of tumors that grow slowly or not at all and are unlikely to develop into life - threatening disease\\nbreast cancer is the second most common cause of death from cancer among american women , claiming nearly 41,000 lives a year\\nannual mammograms starting at 40 years old have long been considered standard for preventive care , because cancer is easier to treat if detected early\\nbut recently there has been disagreement about regular screening for women in their 40s\\nstudy authors mei-sing ong , a research fellow at boston children 's hospital , and mandl , a professor at harvard medical school , say their findings indicate that the cost of breast cancer overtreatment appears to be much higher than previously estimated\\ntheir $ 4bn figure is the midpoint of a range that depends upon assumptions about the rates of false - positive mammograms and breast cancer overdiagnosis\\napart from the financial cost of screening tests and treatment , false positives and overdiagnosis expose women to risks from additional medical procedures , not to mention psychological distress\\nit is not uncommon for mammograms to turn up some apparent abnormality that has to be resolved with more imaging tests or a biopsy\\n' we 're hoping that the financial cost of this problem will help cast into greater relief the human cost , ' said mandl\\n' the two messages together are powerful\\nthe fact that this is not only a problem , but a very costly problem we hope will accelerate the attempts to try to fix the screening practices\\n' but another expert defended those practices , and called the study one - sided\\n' there was no attempt to balance the costs with the benefits , ' said wender , who heads prevention , detection and patient - support efforts at the american cancer society\\n' i strongly feel that every study that looks at the downsides of any screening test has to be balanced with the benefits\\n' the american cancer society recommends yearly mammograms for women starting at 40 , while a government advisory group - the u.s. preventive services task force - recommends that regular screening begins at 50\\nthe study found that women aged 40 and 49 were more likely to have a false - positive mammogram , compared to women in their 50s\\nearly detection : annual mammograms starting at 40 years old have long been considered standard for preventive care , because cancer is easier to treat if detected early the american cancer society recommends yearly mammograms for women starting at 40 , while a government advisory group says regular screening should begin at 50 wender questioned the assumptions behind the new study , saying that the authors made a ' very selective choice of estimates ' for the rates of false positives and overdiagnosis\\n' there is no debate about the benefits of mammography , ' he said\\nmandl responded that the assumptions in his study are supported by other research , and that by definition there is no medical benefit to mammograms that produce false - positive results\\nthe study was based on billing data from a major american insurer , including more than 700,000 women aged between 40 and 59 in all 50 states , from 2011 through 2013\\nthe american spends much more on healthcare than any other country , but lags behind other economically advanced societies on life expectancy and certain other health indicators\\nthat has prompted strong interest among insurers , employers and government officials in comparing the effectiveness of competing treatments , tests and medications\\ncancer treatment may end up being one of the most closely followed issues in the broader debate over healthcare costs and benefits\\na different study also published in monday 's health affairs found that cancer death rates were lower in countries that spent more on cancer care , and that countries that increased spending the most made more progress in reducing death rates .\"\n",
      "\n",
      "\n",
      "talk.politics.mideast\n",
      "b'kim kardashian has launched an outspoken attack on president obama for refusing to use the word \\' genocide \\' as he marked the 100th anniversary of the massacre of 1.5 million armenians\\nthe reality star said it was \\' very disappointing \\' that he stopped short of using the word - which he had promised to use when he ran for office\\nkim kardashian , whose armenian heritage comes from her father , the late robert kardashian , has used her celebrity since 2011 to bring awareness to the genocide\\nmarking the anniversary of the mass murder at the weekend , kim kardashian wrote in an op - ed in time magazine : \\' i would like president obama to use the word \" genocide \"\\nit s very disappointing he has nt used it as president\\n\\' we thought it was going to happen this year\\ni feel like we re close  but we re definitely moving in the right direction\\nmarking the anniversary of the mass murder last weekend , kim kardashian wrote in an op - ed , \\' i would like president obama to use the word  genocide\\n it s very disappointing he has nt used it as president \\' tricky language : president obama sent an administration official to armenia to mark the 100th anniversary of the 1915 massacre by ottoman turks\\nbut he refused to call the mass killings of ethnic armenians a \\' genocide \\' for fear of offending ally turkish slaughter : historians estimate that 1.5 million armenians were killed by ottoman turks during world war i. above , armenians are made to march in this picture from the 1915 massacre kim kardashian and khloe walk in the plaza at the armenian genocide memorial\\nthey were accompanied by their cousins kara and kourtni and kim kardashian \\'s husband kanye west\\nkim kardashian and khloe \\'s armenian heritage comes from their father , the late robert kardashian as a senator and presidential candidate , obama did describe the killings of armenians as genocide\\nbut he has never used that description since taking office , mainly out of deference to turkish , a key u.s. partner\\nthe white house said u.s. officials pledged to armenian - u.s. leaders that the u.s. would use last week \\'s 100th anniversary of the killings \\' to urge a full , frank and just acknowledgement of the facts , \\' but a statement about the meeting did not include the word \\' genocide\\n\\' historians estimate up to 1.5 million armenians were killed by ottoman turks , an event widely viewed by scholars as a genocide\\nturkish , however , denies that the deaths constituted genocide because it was not an ethnic - driven battle and says the death toll has been inflated\\ndemocratic rep. schiff also said he was \\' deeply disappointed \\' by the president \\'s decision\\n\\' the u.s. has long prided itself for being a beacon of human rights , for speaking out against atrocity , for confronting painful chapters of its own past and that of others , \\' said schiff\\n\\' this can not be squared with a policy of complicity in genocide denial by the president or congress\\n\\' kim kardashian , who recently traveled to the country for the first time with her husband kanye west , sister khloe and cousins kara and kourtni kardashian , said , \\' now is the time to speak out , and every little bit helps \\' \\' i will continue to ask the questions and fight for the genocide to be recognized for what it was , \\' the reality television star said , encouraging turkish to label the killings as a genocide\\n\\' it s not the fault of the people who live there now , \\' she noted , and \\' i think if they recognize it and acknowledge it , everyone can move on\\n\\' i believe in moving on and looking toward a brighter future , but you ca nt move on unless you acknowledge the past\\nto not do so is an act of disrespect\\n\\' paying their respects : kim kardashian has used her celebrity status to bring awareness to the genocide since at least 2011\\nthe pope has also called the slaughter \\' the first genocide of the 20th century \\' kim kardashian and kanye west are pictured here with daughter north west and khloe as they walk inside church hallways to view art prior to baptism in at cathedral of sts\\njames in the historic armenian quarter of the old city of jerusalem last year for norrie \\'s christening kim kardashian recalled in the op - ed that her family tree would have ended if her grandparents had n\\'t left armenia for los angeles the year before the armed conflict\\n\\' there are so many people who lost their families , and the stories of how they were killed are so heartbreaking  they should never be forgotten , \\' she wrote\\n\\' the whole point of remembering the genocide is to make sure it does nt happen again\\na million - and - a - half people were brutally massacred , and a country can just pretend like it never happened ? i do nt think that s right\\n\\' while in armenia , kim kardashian and her family visited the dzidzernagapert armenian genocide monument s eternal flame that honors those countryman who were killed in 1915\\n\\' an emotional day at the genocide museum , \\' read a tweet posted by kim kardashian that was accompanied by a photo of her and khloe laying flowers at the flame\\nkim kardashian has been publicly calling for the deaths to be recognized as a genocide since 2011 , when she wrote in a blog post , \\' every year , i honor the memory of the martyrs who were killed during the genocide\\neven though so many countries around the world recognize the genocide , the government of turkish still denies it\\n\\' it happened before rwanda , darfur , and the holocaust\\nmaybe none of those other genocides would have happened if more nations had condemned the armenian genocide , when 1.5 million armenians were massacred\\n\\' during their trip to her ancestors \\' homeland , kim kardashian , khloe and their cousins met with the country \\'s prime minister , hovik abrahamyan , who \\' expressed how proud they are that we are proud armenians and we have not forgotten our roots ! \\' kim kardashian said in a tweet\\nkim kardashian \\'s husband kanye west also threw an impromptu bash and free concert in yerevan at swan lake before departing armenia for jerusalem , israel - the location of their daughter \\'s christening at an armenian church in 2014\\nthe kardashians also visited the geghard monastery during their trip to armenia khloe wrote in a tweet on the day of their visit to the genocide memorial : \\' my sister and i are trying to bring awareness not only to our armenian genocide but genocides and human slaughter , in general\\nknowledge is power ! \\' \\' the kardashians have helped strike a powerful blow at turkish \\'s campaign of genocide denial , \\' anca communications director told abc news after the visit\\ntheir trip to armenia \\' has helped shine a global spotlight \\' on the genocide and \\' the need for justice for that crime with millions , \\' she said\\nkhloe also kept the campaign going after she returned home , asking her fan base on twitter to sign a change.org petition \\' to bring awareness to the armenian genocide \\' by requesting that google highlight the conflict with its homepage doodle on the anniversary of the killings , april 24\\n\\' i did ! ! ! \\' she said\\nas of friday the online petition had garnered more than 202,129 supporters , beating its goal of 200,000 names\\ngoogle did not wade in the controversy by adopting the suggested doodle , however\\nthe white house said last week that while it understands the perspective of those hoping to hear different language from obama this year , the administration believes its approach is right , \\' both for acknowledging the past , and for our ability to work with regional partners to save lives in the present\\n\\' it announced at the same time that treasury secretary jacob lew would attend a ceremony in armenia on friday making the anniversary\\n\\' president obama \\'s surrender to turkish represents a national disgrace , \\' anca chairman ( anca ) ken hachikian said in a statement\\n\\' it is , very simply , a betrayal of truth , a betrayal of trust\\n\\' the pope added his name this year to the list of high - profile leaders characterizing the 1915 slaughter as the \\' first genocide of the 20th century\\n\\' he further proclaimed that \\' concealing or denying evil is like allowing a wound to keep bleeding without bandaging it\\n\\' ties that bind : the kim kardashian family tree that traces back to two armenian families home : kim kardashian \\'s ancient ancestors fled the armenian village karakale ( pictured recently ) to escape a prophecised genocide that did come to pass genocide : the village of karakale ( pictured in the 19th century ) was among hundreds destroyed as the ottoman turks laid waste to the region\\nresidents - possibly including the kardashians - can be seen standing by their traditional houses disputed : armenian lands ( in red ) were disputed just after the turn of the 20th century , with bloody consequences armenians say up to 1.5 million of their kin were killed between 1915 and 1917 as the ottoman turks was falling apart and have long sought to win international recognition of the massacres as genocide\\nturkish rejects the claims , arguing that 300,000 to 500,000 armenians and as many ottoman turks died in civil strife when armenians rose up against their ottoman turks rulers and sided with invading russian troops\\nthe fundamental division was religious\\narmenians are christians , while ottoman turks are muslim\\nthe two groups had lived alongside each other for hundreds of years , but the ottoman turks ottoman turks had always been on top\\nas ottoman turks rule crumbled , rival nationalisms arose , and the russian empire - itself to experience revolution in 1917 - also invaded\\narmenians say they were forced from their homes , marched to mass graves and slaughtered\\nsome managed to flee south into modern - day syria and the levant , others to russian - held land which is now modern - day armenia\\nhundreds of thousands met a violent end or died as they fled\\nthe outcome in terms of mass death is not now widely disputed\\nbut the use of the word \\' genocide \\' is hugely controversial , as turkey - successor to the ottoman turks empire , and with a huge majority of muslim ethnic ottoman turks - rejects the description\\narmenia , which became a fully - fledged nation in its modern form at the collapse of the soviet union , has campaigned for recognition of its description of the deaths\\nits modern borders are much smaller than the areas where the deaths occurred\\nthe province of kars ( above ) , where the kardashians \\' roots - and the origin of their name - lies , is almost entirely in turkish\\nits capital , kars , is now a symbol of the division over the deaths between the two countries : it sits on the border but the frontier is closed .'\n"
     ]
    }
   ],
   "source": [
    "# let's see some of our topics\n",
    "uniques, counts = np.unique(test_max_labels, return_counts=True)\n",
    "print(dict(zip(uniques, counts)))\n",
    "\n",
    "# example of categorized topic\n",
    "idx13 = np.where(test_max_labels == 13)[0][0]\n",
    "print(idx13)\n",
    "print(clf20.topics[13])\n",
    "print(test_docs[int(idx13)])\n",
    "print(\"\\n\")\n",
    "\n",
    "idx10 = np.where(test_max_labels == 17)[0][0]\n",
    "print(clf20.topics[17])\n",
    "print(test_docs[idx10])"
   ]
  },
  {
   "cell_type": "markdown",
   "metadata": {},
   "source": [
    "Split and Separate the train and test data into their respective folder"
   ]
  },
  {
   "cell_type": "code",
   "execution_count": 23,
   "metadata": {},
   "outputs": [
    {
     "name": "stdout",
     "output_type": "stream",
     "text": [
      "173287 6373 14257\n",
      "9218 494 638\n"
     ]
    }
   ],
   "source": [
    "split = {'Vendor':[0,5], # Aggregator will also include Other - 20\n",
    "         'Buyer1':[6,11],\n",
    "         'Buyer2':[12,19]}\n",
    "\n",
    "def split_parties(data, max_labels, split):\n",
    "    # vendor\n",
    "    vendor_vec = np.where((max_labels >= split['Vendor'][0]) & (max_labels <= split['Vendor'][1]) | \n",
    "                          max_labels == len(clf20.topics)-1) # Other\n",
    "    vendor = data[vendor_vec]\n",
    "    \n",
    "    # buyers\n",
    "    buyer1_vec = np.where((max_labels >= split['Buyer1'][0]) & (max_labels <= split['Buyer1'][1]))\n",
    "    buyer1 = data[buyer1_vec]\n",
    "    \n",
    "    buyer2_vec = np.where((max_labels >= split['Buyer2'][0]) & (max_labels <= split['Buyer2'][1]))\n",
    "    buyer2 = data[buyer2_vec]\n",
    "    \n",
    "    return vendor, buyer1, buyer2\n",
    "\n",
    "train_vendor, train_buyer1, train_buyer2 = split_parties(train, train_max_labels, split)\n",
    "test_vendor, test_buyer1, test_buyer2 = split_parties(test, test_max_labels, split)\n",
    "\n",
    "print(len(train_vendor), len(train_buyer1), len(train_buyer2))\n",
    "print(len(test_vendor), len(test_buyer1), len(test_buyer2))"
   ]
  },
  {
   "cell_type": "code",
   "execution_count": 24,
   "metadata": {},
   "outputs": [],
   "source": [
    "# export data\n",
    "with open('./Vendor/Test_Vendor', 'wb') as f:\n",
    "    pickle.dump(test_vendor, f)\n",
    "with open('./Vendor/Train_Vendor', 'wb') as f:\n",
    "    pickle.dump(train_vendor, f)\n",
    "\n",
    "\n",
    "with open('./Buyer1/Test_Buyer1', 'wb') as f:\n",
    "    pickle.dump(test_buyer1, f)\n",
    "with open('./Buyer1/Train_Buyer1', 'wb') as f:\n",
    "    pickle.dump(train_buyer1, f)\n",
    "    \n",
    "with open('./Buyer2/Test_Buyer2', 'wb') as f:\n",
    "    pickle.dump(test_buyer2, f)\n",
    "with open('./Buyer2/Train_Buyer2', 'wb') as f:\n",
    "    pickle.dump(train_buyer2, f)"
   ]
  },
  {
   "cell_type": "code",
   "execution_count": null,
   "metadata": {},
   "outputs": [],
   "source": []
  }
 ],
 "metadata": {
  "kernelspec": {
   "display_name": "Python 3",
   "language": "python",
   "name": "python3"
  },
  "language_info": {
   "codemirror_mode": {
    "name": "ipython",
    "version": 3
   },
   "file_extension": ".py",
   "mimetype": "text/x-python",
   "name": "python",
   "nbconvert_exporter": "python",
   "pygments_lexer": "ipython3",
   "version": "3.7.3"
  }
 },
 "nbformat": 4,
 "nbformat_minor": 2
}
